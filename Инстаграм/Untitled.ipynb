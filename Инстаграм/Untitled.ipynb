{
 "cells": [
  {
   "cell_type": "code",
   "execution_count": 1,
   "metadata": {},
   "outputs": [],
   "source": [
    "from instapy import InstaPy\n",
    "from instapy import smart_run\n",
    "import pandas as pd\n",
    "from tqdm import tqdm\n",
    "import time"
   ]
  },
  {
   "cell_type": "code",
   "execution_count": 2,
   "metadata": {},
   "outputs": [],
   "source": [
    "from instapy.util import get_relationship_counts\n",
    "from instapy.relationship_tools import get_followers"
   ]
  },
  {
   "cell_type": "code",
   "execution_count": 3,
   "metadata": {},
   "outputs": [
    {
     "name": "stdout",
     "output_type": "stream",
     "text": [
      "InstaPy Version: 0.6.6\n",
      " ._.  ._.  ._.  ._.  ._.  ._.  ._.  ._.  ._. \n",
      "Workspace in use: \"C:/Users/Vadim/InstaPy\"\n",
      "OOOOOOOOOOOOOOOOOOOOOOOOOOOOOOOOOOOOOOOOOOOOOOOOOOOOOO\n"
     ]
    },
    {
     "name": "stderr",
     "output_type": "stream",
     "text": [
      "INFO [2019-11-30 21:38:56] [vadim._.ushakov]  Session started!\n"
     ]
    },
    {
     "name": "stdout",
     "output_type": "stream",
     "text": [
      "oooooooooooooooooooooooooooooooooooooooooooooooooooooo\n"
     ]
    }
   ],
   "source": [
    "session = InstaPy(username='vadim._.ushakov',\n",
    "                  password='victory',\n",
    "                  headless_browser=False)"
   ]
  },
  {
   "cell_type": "code",
   "execution_count": 4,
   "metadata": {},
   "outputs": [
    {
     "name": "stderr",
     "output_type": "stream",
     "text": [
      "INFO [2019-11-30 21:39:01] [vadim._.ushakov]  -- Connection Checklist [1/3] (Internet Connection Status)\n",
      "INFO [2019-11-30 21:39:02] [vadim._.ushakov]  - Internet Connection Status: ok\n",
      "INFO [2019-11-30 21:39:02] [vadim._.ushakov]  - Current IP is \"95.220.71.65\" and it's from \"Russian Federation/RU\"\n",
      "INFO [2019-11-30 21:39:02] [vadim._.ushakov]  -- Connection Checklist [2/3] (Instagram Server Status)\n",
      "INFO [2019-11-30 21:39:08] [vadim._.ushakov]  - Instagram WebSite Status: Currently Up \n",
      "INFO [2019-11-30 21:39:08] [vadim._.ushakov]  - Instagram Response Time: 133.585 ms \n",
      "INFO [2019-11-30 21:39:08] [vadim._.ushakov]  - Instagram Reponse Code: 200\n",
      "INFO [2019-11-30 21:39:08] [vadim._.ushakov]  - Instagram Server Status: ok\n",
      "INFO [2019-11-30 21:39:08] [vadim._.ushakov]  -- Connection Checklist [3/3] (Hide Selenium Extension)\n",
      "INFO [2019-11-30 21:39:08] [vadim._.ushakov]  - window.navigator.webdriver response: False\n",
      "INFO [2019-11-30 21:39:08] [vadim._.ushakov]  - Hide Selenium Extension: ok\n"
     ]
    },
    {
     "name": "stdout",
     "output_type": "stream",
     "text": [
      ".....................................................................\n"
     ]
    },
    {
     "name": "stderr",
     "output_type": "stream",
     "text": [
      "INFO [2019-11-30 21:39:18] [vadim._.ushakov]  Logged in successfully!\n"
     ]
    },
    {
     "name": "stdout",
     "output_type": "stream",
     "text": [
      "'''''''''''''''''''''''''''''''''''''''''''''''''''''''''''''''''''''\n"
     ]
    },
    {
     "name": "stderr",
     "output_type": "stream",
     "text": [
      "INFO [2019-11-30 21:39:18] [vadim._.ushakov]  Saving account progress...\n"
     ]
    },
    {
     "name": "stdout",
     "output_type": "stream",
     "text": [
      "____________________________________________________________________________________\n"
     ]
    },
    {
     "name": "stderr",
     "output_type": "stream",
     "text": [
      "INFO [2019-11-30 21:39:33] [vadim._.ushakov]  Starting to get the `Followers` data..\n"
     ]
    },
    {
     "name": "stdout",
     "output_type": "stream",
     "text": [
      "\"\"\"\"\"\"\"\"\"\"\"\"\"\"\"\"\"\"\"\"\"\"\"\"\"\"\"\"\"\"\"\"\"\"\"\"\"\"\"\"\"\"\"\"\"\"\"\"\"\"\"\"\"\"\"\"\"\"\"\"\"\"\"\"\"\"\"\"\"\"\"\"\"\"\"\"\"\"\"\"\"\"\"\"\n"
     ]
    },
    {
     "name": "stderr",
     "output_type": "stream",
     "text": [
      "INFO [2019-11-30 21:39:33] [vadim._.ushakov]  Retrieving live `Followers` data of alla_manila at \"full\" range\n"
     ]
    },
    {
     "name": "stdout",
     "output_type": "stream",
     "text": [
      "  218/218 [===================================+]  100%    |> Elapsed: 14.01 seconds    |> ETA: 0.0 seconds      \n",
      "\n"
     ]
    },
    {
     "name": "stderr",
     "output_type": "stream",
     "text": [
      "INFO [2019-11-30 21:39:53] [vadim._.ushakov]  Grabbed 218 usernames from `Followers` in 14.02 seconds\n",
      "INFO [2019-11-30 21:39:53] [vadim._.ushakov]  Stored `Followers` data at C:\\Users\\Vadim\\InstaPy\\logs\\vadim._.ushakov\\/relationship_data/alla_manila/followers/30-11-2019~full~218(1).json local file\n"
     ]
    },
    {
     "name": "stdout",
     "output_type": "stream",
     "text": [
      "\n"
     ]
    },
    {
     "name": "stderr",
     "output_type": "stream",
     "text": [
      "INFO [2019-11-30 21:39:53] [vadim._.ushakov]  Zz :[ time to take a good nap  ~sleeping 36.0 seconds\n",
      "INFO [2019-11-30 21:40:33] [vadim._.ushakov]  Yawn :] let's go!\n",
      "\n",
      "100%|████████████████████████████████████████████████████████████████████████████████| 218/218 [12:59<00:00,  3.58s/it]\n"
     ]
    },
    {
     "name": "stdout",
     "output_type": "stream",
     "text": [
      "\n"
     ]
    },
    {
     "name": "stderr",
     "output_type": "stream",
     "text": [
      "INFO [2019-11-30 21:53:36] [vadim._.ushakov]  Sessional Live Report:\n",
      "\t|> No any statistics to show\n",
      "\n",
      "On session start was FOLLOWING 19 users & had 10 FOLLOWERS\n",
      "[Session lasted 14.8 minutes]\n"
     ]
    },
    {
     "name": "stdout",
     "output_type": "stream",
     "text": [
      "OOOOOOOOOOOOOOOOOOOOOOOOOOOOOOOOOOOOOOOOOOOOOOOOOOOOOOOOOOOO\n"
     ]
    },
    {
     "name": "stderr",
     "output_type": "stream",
     "text": [
      "INFO [2019-11-30 21:53:36] [vadim._.ushakov]  Session ended!\n"
     ]
    },
    {
     "name": "stdout",
     "output_type": "stream",
     "text": [
      "oooooooooooooooooooooooooooooooooooooooooooooooooooooooooooo\n",
      "\n",
      "\n",
      "\n"
     ]
    }
   ],
   "source": [
    "username = 'alla_manila'\n",
    "with smart_run(session):\n",
    "    followers = session.grab_followers(username, amount=\"full\")\n",
    "    user_data = []\n",
    "    for user in tqdm(followers):\n",
    "        followers_count, following_count = get_relationship_counts(session.browser, user, session.logger)\n",
    "        user_data.append((user, followers_count, following_count))"
   ]
  },
  {
   "cell_type": "code",
   "execution_count": 8,
   "metadata": {},
   "outputs": [
    {
     "data": {
      "text/plain": [
       "[('yet_another_traveller', 2394, 7004),\n",
       " ('igor__aleshin', 1468, 6755),\n",
       " ('a_v_bugaev', 8647, 6497),\n",
       " ('anna_961_k', 487, 6266),\n",
       " ('bestlifestylist', 7807, 5489),\n",
       " ('iana.taits', 690, 4125),\n",
       " ('ma.ri.na.___d', 78, 3667),\n",
       " ('galyaovchinnikova', 418, 3582),\n",
       " ('alla_yudina01', 1683, 3077),\n",
       " ('helena_8929', 63, 3020),\n",
       " ('lena_tuhtaeva', 1364, 2791),\n",
       " ('milanamila34', 550, 2474),\n",
       " ('ekaterina_fotoshow', 845, 2424),\n",
       " ('natali.l_am', 310, 2245),\n",
       " ('mystic__jewellery', 3514, 2171),\n",
       " ('platform_star', 1902, 2119),\n",
       " ('grachenkova', 490, 2113),\n",
       " ('mila_ssse', 1149, 2012),\n",
       " ('yepifanova_', 2325, 1943),\n",
       " ('ekaterina_kovalskikh', 500, 1870),\n",
       " ('alena.ter', 369, 1840),\n",
       " ('romanovaoksana1', 811, 1816),\n",
       " ('lana_1706', 1217, 1792),\n",
       " ('shynarsarchayan', 1061, 1763),\n",
       " ('silvia_ryabova', 1788, 1662),\n",
       " ('lepekhas', 1020, 1656),\n",
       " ('_mironova_olyaa', 3454, 1498),\n",
       " ('elenakulikova49', 231, 1458),\n",
       " ('bzik_ula', 102, 1458),\n",
       " ('liubou.frantskevich', 67, 1414),\n",
       " ('noviiikkkova', 1446, 1409),\n",
       " ('i__mp__i', 1192, 1379),\n",
       " ('nat_ali_s', 836, 1377),\n",
       " ('katya_holovko', 876, 1319),\n",
       " ('wania.od', 361, 1304),\n",
       " ('anastasyavladimirovna_', 1264, 1255),\n",
       " ('julia___vl', 182, 1254),\n",
       " ('slava_lomonosova', 941, 1234),\n",
       " ('_alya_vv_', 102, 1174),\n",
       " ('lidik_bessty', 471, 1161),\n",
       " ('larisaslavinskaya', 203, 1154),\n",
       " ('agarko', 1651, 1116),\n",
       " ('shchelkunoff', 741, 1071),\n",
       " ('patentilla', 306, 1041),\n",
       " ('av_borodina', 725, 996),\n",
       " ('anjela_shamhalova', 534, 988),\n",
       " ('marinagorbanova', 287, 979),\n",
       " ('my.soul.here', 189, 961),\n",
       " ('r0manovskaya', 153, 917),\n",
       " ('iryna_zavadko', 470, 906),\n",
       " ('nadiakot2016', 481, 904),\n",
       " ('project_itvori', 220, 870),\n",
       " ('adamchrusciel37', 75, 837),\n",
       " ('kyliekylie88__', 77, 835),\n",
       " ('selenatsar', 81, 833),\n",
       " ('kaifushaaa_333', 779, 829),\n",
       " ('30rsv', 177, 800),\n",
       " ('viktoriya1535', 183, 796),\n",
       " ('solomiya.zan', 522, 789),\n",
       " ('lenasafronova1210', 730, 785),\n",
       " ('elena_kralya', 414, 770),\n",
       " ('natorlovich', 3482, 725),\n",
       " ('francogolic', 990, 701),\n",
       " ('veronika.davi', 2241, 699),\n",
       " ('olena2101', 168, 668),\n",
       " ('s1im51', 182, 617),\n",
       " ('ghaly1985', 283, 616),\n",
       " ('nastya__vorona', 999, 596),\n",
       " ('druzhinina_e', 919, 582),\n",
       " ('yuliaakarandyuk', 3145, 563),\n",
       " ('anasstya1', 623, 563),\n",
       " ('sasha_aass', 92, 560),\n",
       " ('irinka_ivanishkina', 468, 557),\n",
       " ('alinpmalysheva', 435, 554),\n",
       " ('makinka0606', 117, 546),\n",
       " ('valviolett', 288, 545),\n",
       " ('queenpeonys', 252, 544),\n",
       " ('golovinatana', 60, 544),\n",
       " ('iusaevazulfira', 249, 536),\n",
       " ('_ol_6580', 23, 533),\n",
       " ('anechkapokotilo', 2171, 532),\n",
       " ('capitan_kakao_', 301, 523),\n",
       " ('stewadress', 465, 515),\n",
       " ('nastyaplease', 4315, 508),\n",
       " ('korneva714', 357, 505),\n",
       " ('sanovna.mari', 1186, 505),\n",
       " ('mary_mary_ko', 578, 481),\n",
       " ('tayano4ka', 3341, 474),\n",
       " ('nataliafilimoncheva', 209, 451),\n",
       " ('by_innkin', 308, 445),\n",
       " ('j_n_sp', 48, 443),\n",
       " ('janna_kislaya', 468, 441),\n",
       " ('irina_yarych', 35, 438),\n",
       " ('_yaroslava_lo', 208, 434),\n",
       " ('oxana_78', 75, 433),\n",
       " ('maria__kyzmina', 214, 419),\n",
       " ('yaroslavna.shergova', 195, 417),\n",
       " ('i_never_be_alone_', 1542, 411),\n",
       " ('_astro_virgo_', 81, 405),\n",
       " ('natashazhalnina', 279, 403),\n",
       " ('daria_zyuneva', 797, 390),\n",
       " ('mozgova_alena', 168, 388),\n",
       " ('slepneva_coach', 773, 385),\n",
       " ('snolovki_tuvinki', 206, 381),\n",
       " ('_djongiu', 125, 375),\n",
       " ('sha_tosha', 227, 374),\n",
       " ('li_s_aa__', 549, 366),\n",
       " ('mele.jazz.duet', 100, 364),\n",
       " ('olga090976', 41, 364),\n",
       " ('eszubtsova', 339, 358),\n",
       " ('vladislava_mom', 73, 358),\n",
       " ('pirozhkova_m', 323, 355),\n",
       " ('lashes_lid', 189, 348),\n",
       " ('kosha9111', 371, 338),\n",
       " ('irin_arkadevna', 143, 338),\n",
       " ('laskomikhail', 719, 336),\n",
       " ('sirin.kate', 547, 330),\n",
       " ('merzlen', 149, 323),\n",
       " ('toyiren', 80, 321),\n",
       " ('anasta_lo', 320, 318),\n",
       " ('smart_katya_kos', 71, 317),\n",
       " ('by_nasstya', 4849, 316),\n",
       " ('arnika123', 7, 313),\n",
       " ('nataliyucel', 55, 308),\n",
       " ('fonia_ja', 8, 307),\n",
       " ('cherdantseva_anosova', 382, 305),\n",
       " ('lazarev_saycheese', 2661, 303),\n",
       " ('julya_samoilova', 4634, 292),\n",
       " ('vlasova.online', 70, 292),\n",
       " ('moskyu', 592, 292),\n",
       " ('aamvs76', 100, 283),\n",
       " ('olgaboyarskaya', 614, 283),\n",
       " ('daria__dmitriyevna', 421, 279),\n",
       " ('elenavozovik', 150, 275),\n",
       " ('kolianams', 162, 273),\n",
       " ('paninmiroslav', 423, 268),\n",
       " ('msstepashkina', 122, 267),\n",
       " ('danieldoshe', 8248, 265),\n",
       " ('grikorol3003', 31, 263),\n",
       " ('savinskyvladimir', 90, 260),\n",
       " ('lesyatregub', 82, 255),\n",
       " ('didishka_pervaya', 899, 247),\n",
       " ('boredtapka', 345, 247),\n",
       " ('abba00011', 0, 246),\n",
       " ('ro_guber', 4485, 244),\n",
       " ('bulbash_girl', 103, 234),\n",
       " ('_the_dying_seal_', 76, 230),\n",
       " ('imalinka_', 1535, 230),\n",
       " ('nobeershe', 904, 230),\n",
       " ('matusevichvolha', 9, 228),\n",
       " ('wild_crazy_happy', 216, 228),\n",
       " ('martinmika1988', 160, 226),\n",
       " ('elenazagika', 328, 224),\n",
       " ('antonletniy', 158, 223),\n",
       " ('vasyatka001_', 186, 222),\n",
       " ('_zaika', 364, 219),\n",
       " ('psyfactor2007', 150, 217),\n",
       " ('olgaaleshina1983', 203, 216),\n",
       " ('avlae', 263, 214),\n",
       " ('pakhomovatatiana', 167, 205),\n",
       " ('cheremisinovanatalya', 232, 203),\n",
       " ('themoremira', 144, 201),\n",
       " ('irina77777', 39, 199),\n",
       " ('liusigurova', 96, 198),\n",
       " ('s__alya__', 42, 190),\n",
       " ('nactenka74', 109, 188),\n",
       " ('mak_s34', 39, 186),\n",
       " ('charlyenergyss', 58, 186),\n",
       " ('frostyfrost262', 165, 185),\n",
       " ('madama_tomata', 349, 180),\n",
       " ('ja08sm', 11289, 179),\n",
       " ('stillhere19', 72, 177),\n",
       " ('ann.aw9', 51, 169),\n",
       " ('bengal_cat_malta', 936, 168),\n",
       " ('tat58900185', 19, 164),\n",
       " ('_bellissimo_555', 340, 161),\n",
       " ('sullenshark', 104, 156),\n",
       " ('_nastojashhaja', 138, 155),\n",
       " ('kitty_davydenkova', 63, 151),\n",
       " ('dol4i_vita', 44, 149),\n",
       " ('svetlana_zelenoglazzka', 137, 147),\n",
       " ('julia_golubnichenko', 127, 145),\n",
       " ('bespalov_a_v', 112, 137),\n",
       " ('dr.dm', 228, 137),\n",
       " ('mansurov_dmitriy_rodniki', 196, 130),\n",
       " ('taniushasabila', 17, 126),\n",
       " ('nv_k57', 158, 124),\n",
       " ('vaselisa04', 79, 123),\n",
       " ('valeria__sinichkina', 246, 118),\n",
       " ('fastenko.i', 138, 117),\n",
       " ('vera_reyi', 78, 112),\n",
       " ('artem.pakhomov', 91, 106),\n",
       " ('mila_astromagia', 19275, 102),\n",
       " ('to_bank_on_something', 242, 101),\n",
       " ('sinichkina_v', 944, 99),\n",
       " ('tyschechka', 61, 97),\n",
       " ('tolikkk_kob', 60, 96),\n",
       " ('iness7505', 30, 91),\n",
       " ('lintvarev_ea', 59, 90),\n",
       " ('helgabo_brow', 45, 88),\n",
       " ('nikitaandreev89', 69, 86),\n",
       " ('_fugitive4life_', 50, 85),\n",
       " ('andreitalanko', 98, 81),\n",
       " ('digma_35', 116, 76),\n",
       " ('leksss367', 35, 72),\n",
       " ('krevetych', 62, 67),\n",
       " ('zhanna_risuet', 99, 60),\n",
       " ('arnoviktoria', 29, 58),\n",
       " ('astroledi_spb', 77, 40),\n",
       " ('kluevert', 82, 25),\n",
       " ('galina_voronova67', 2, 20),\n",
       " ('vadim._.ushakov', 10, 19),\n",
       " ('milaprolife', 231, 18),\n",
       " ('alla_manila_private', 18, 17),\n",
       " ('tulikutelija', 43, 16),\n",
       " ('kulikovamariya1280', 39, 15),\n",
       " ('larybora', 3, 8),\n",
       " ('kozz226', 1, 4)]"
      ]
     },
     "execution_count": 8,
     "metadata": {},
     "output_type": "execute_result"
    }
   ],
   "source": [
    "sorted(user_data, key=lambda x: x[2],reverse=True)"
   ]
  },
  {
   "cell_type": "code",
   "execution_count": null,
   "metadata": {},
   "outputs": [
    {
     "name": "stderr",
     "output_type": "stream",
     "text": [
      "\r",
      "  0%|                                                                                          | 0/218 [00:00<?, ?it/s]"
     ]
    },
    {
     "name": "stdout",
     "output_type": "stream",
     "text": [
      "error\n"
     ]
    },
    {
     "name": "stderr",
     "output_type": "stream",
     "text": [
      "\r",
      "  0%|▍                                                                                 | 1/218 [00:00<02:24,  1.51it/s]"
     ]
    },
    {
     "name": "stdout",
     "output_type": "stream",
     "text": [
      "error\n"
     ]
    },
    {
     "name": "stderr",
     "output_type": "stream",
     "text": [
      "\r",
      "  1%|▊                                                                                 | 2/218 [00:01<02:05,  1.72it/s]"
     ]
    },
    {
     "name": "stdout",
     "output_type": "stream",
     "text": [
      "error\n"
     ]
    },
    {
     "name": "stderr",
     "output_type": "stream",
     "text": [
      "\r",
      "  1%|█▏                                                                                | 3/218 [00:01<01:46,  2.02it/s]"
     ]
    },
    {
     "name": "stdout",
     "output_type": "stream",
     "text": [
      "error\n"
     ]
    },
    {
     "name": "stderr",
     "output_type": "stream",
     "text": [
      "\r",
      "  2%|█▌                                                                                | 4/218 [00:01<01:35,  2.25it/s]"
     ]
    },
    {
     "name": "stdout",
     "output_type": "stream",
     "text": [
      "error\n"
     ]
    },
    {
     "name": "stderr",
     "output_type": "stream",
     "text": [
      "\r",
      "  2%|█▉                                                                                | 5/218 [00:02<01:38,  2.16it/s]"
     ]
    },
    {
     "name": "stdout",
     "output_type": "stream",
     "text": [
      "error\n"
     ]
    },
    {
     "name": "stderr",
     "output_type": "stream",
     "text": [
      "\r",
      "  3%|██▎                                                                               | 6/218 [00:02<01:29,  2.38it/s]"
     ]
    },
    {
     "name": "stdout",
     "output_type": "stream",
     "text": [
      "error\n"
     ]
    },
    {
     "name": "stderr",
     "output_type": "stream",
     "text": [
      "\r",
      "  3%|██▋                                                                               | 7/218 [00:02<01:23,  2.54it/s]"
     ]
    },
    {
     "name": "stdout",
     "output_type": "stream",
     "text": [
      "error\n"
     ]
    },
    {
     "name": "stderr",
     "output_type": "stream",
     "text": [
      "\r",
      "  4%|███                                                                               | 8/218 [00:03<01:17,  2.71it/s]"
     ]
    },
    {
     "name": "stdout",
     "output_type": "stream",
     "text": [
      "error\n"
     ]
    },
    {
     "name": "stderr",
     "output_type": "stream",
     "text": [
      "\r",
      "  4%|███▍                                                                              | 9/218 [00:03<01:24,  2.47it/s]"
     ]
    },
    {
     "name": "stdout",
     "output_type": "stream",
     "text": [
      "error\n"
     ]
    },
    {
     "name": "stderr",
     "output_type": "stream",
     "text": [
      "\r",
      "  5%|███▋                                                                             | 10/218 [00:04<01:22,  2.52it/s]"
     ]
    },
    {
     "name": "stdout",
     "output_type": "stream",
     "text": [
      "error\n"
     ]
    },
    {
     "name": "stderr",
     "output_type": "stream",
     "text": [
      "\r",
      "  5%|████                                                                             | 11/218 [00:04<01:18,  2.63it/s]"
     ]
    },
    {
     "name": "stdout",
     "output_type": "stream",
     "text": [
      "error\n"
     ]
    },
    {
     "name": "stderr",
     "output_type": "stream",
     "text": [
      "\r",
      "  6%|████▍                                                                            | 12/218 [00:04<01:15,  2.74it/s]"
     ]
    },
    {
     "name": "stdout",
     "output_type": "stream",
     "text": [
      "error\n"
     ]
    },
    {
     "name": "stderr",
     "output_type": "stream",
     "text": [
      "\r",
      "  6%|████▊                                                                            | 13/218 [00:05<01:14,  2.77it/s]"
     ]
    },
    {
     "name": "stdout",
     "output_type": "stream",
     "text": [
      "error\n"
     ]
    },
    {
     "name": "stderr",
     "output_type": "stream",
     "text": [
      "\r",
      "  6%|█████▏                                                                           | 14/218 [00:05<01:09,  2.96it/s]"
     ]
    },
    {
     "name": "stdout",
     "output_type": "stream",
     "text": [
      "error\n"
     ]
    },
    {
     "name": "stderr",
     "output_type": "stream",
     "text": [
      "\r",
      "  7%|█████▌                                                                           | 15/218 [00:05<01:27,  2.31it/s]"
     ]
    },
    {
     "name": "stdout",
     "output_type": "stream",
     "text": [
      "error\n"
     ]
    },
    {
     "name": "stderr",
     "output_type": "stream",
     "text": [
      "\r",
      "  7%|█████▉                                                                           | 16/218 [00:06<01:23,  2.41it/s]"
     ]
    },
    {
     "name": "stdout",
     "output_type": "stream",
     "text": [
      "error\n"
     ]
    },
    {
     "name": "stderr",
     "output_type": "stream",
     "text": [
      "\r",
      "  8%|██████▎                                                                          | 17/218 [00:06<01:19,  2.53it/s]"
     ]
    },
    {
     "name": "stdout",
     "output_type": "stream",
     "text": [
      "error\n"
     ]
    },
    {
     "name": "stderr",
     "output_type": "stream",
     "text": [
      "\r",
      "  8%|██████▋                                                                          | 18/218 [00:07<01:43,  1.93it/s]"
     ]
    },
    {
     "name": "stdout",
     "output_type": "stream",
     "text": [
      "error\n"
     ]
    },
    {
     "name": "stderr",
     "output_type": "stream",
     "text": [
      "\r",
      "  9%|███████                                                                          | 19/218 [00:07<01:29,  2.23it/s]"
     ]
    },
    {
     "name": "stdout",
     "output_type": "stream",
     "text": [
      "error\n"
     ]
    },
    {
     "name": "stderr",
     "output_type": "stream",
     "text": [
      "\r",
      "  9%|███████▍                                                                         | 20/218 [00:08<01:29,  2.21it/s]"
     ]
    },
    {
     "name": "stdout",
     "output_type": "stream",
     "text": [
      "error\n"
     ]
    },
    {
     "name": "stderr",
     "output_type": "stream",
     "text": [
      "\r",
      " 10%|███████▊                                                                         | 21/218 [00:08<01:27,  2.24it/s]"
     ]
    },
    {
     "name": "stdout",
     "output_type": "stream",
     "text": [
      "error\n"
     ]
    },
    {
     "name": "stderr",
     "output_type": "stream",
     "text": [
      "\r",
      " 10%|████████▏                                                                        | 22/218 [00:09<01:33,  2.09it/s]"
     ]
    },
    {
     "name": "stdout",
     "output_type": "stream",
     "text": [
      "error\n"
     ]
    },
    {
     "name": "stderr",
     "output_type": "stream",
     "text": [
      "\r",
      " 11%|████████▌                                                                        | 23/218 [00:09<01:25,  2.27it/s]"
     ]
    },
    {
     "name": "stdout",
     "output_type": "stream",
     "text": [
      "error\n"
     ]
    },
    {
     "name": "stderr",
     "output_type": "stream",
     "text": [
      "\r",
      " 11%|████████▉                                                                        | 24/218 [00:09<01:17,  2.51it/s]"
     ]
    },
    {
     "name": "stdout",
     "output_type": "stream",
     "text": [
      "error\n"
     ]
    },
    {
     "name": "stderr",
     "output_type": "stream",
     "text": [
      "\r",
      " 11%|█████████▎                                                                       | 25/218 [00:10<01:29,  2.16it/s]"
     ]
    },
    {
     "name": "stdout",
     "output_type": "stream",
     "text": [
      "error\n"
     ]
    },
    {
     "name": "stderr",
     "output_type": "stream",
     "text": [
      "\r",
      " 12%|█████████▋                                                                       | 26/218 [00:10<01:19,  2.41it/s]"
     ]
    },
    {
     "name": "stdout",
     "output_type": "stream",
     "text": [
      "error\n"
     ]
    },
    {
     "name": "stderr",
     "output_type": "stream",
     "text": [
      "\r",
      " 12%|██████████                                                                       | 27/218 [00:11<01:15,  2.53it/s]"
     ]
    },
    {
     "name": "stdout",
     "output_type": "stream",
     "text": [
      "error\n"
     ]
    },
    {
     "name": "stderr",
     "output_type": "stream",
     "text": [
      "\r",
      " 13%|██████████▍                                                                      | 28/218 [00:11<01:09,  2.73it/s]"
     ]
    },
    {
     "name": "stdout",
     "output_type": "stream",
     "text": [
      "error\n"
     ]
    },
    {
     "name": "stderr",
     "output_type": "stream",
     "text": [
      "\r",
      " 13%|██████████▊                                                                      | 29/218 [00:11<01:10,  2.67it/s]"
     ]
    },
    {
     "name": "stdout",
     "output_type": "stream",
     "text": [
      "error\n"
     ]
    },
    {
     "name": "stderr",
     "output_type": "stream",
     "text": [
      "\r",
      " 14%|███████████▏                                                                     | 30/218 [00:12<01:11,  2.64it/s]"
     ]
    },
    {
     "name": "stdout",
     "output_type": "stream",
     "text": [
      "error\n"
     ]
    },
    {
     "name": "stderr",
     "output_type": "stream",
     "text": [
      "\r",
      " 14%|███████████▌                                                                     | 31/218 [00:12<01:11,  2.62it/s]"
     ]
    },
    {
     "name": "stdout",
     "output_type": "stream",
     "text": [
      "error\n"
     ]
    },
    {
     "name": "stderr",
     "output_type": "stream",
     "text": [
      "\r",
      " 15%|███████████▉                                                                     | 32/218 [00:13<01:17,  2.41it/s]"
     ]
    },
    {
     "name": "stdout",
     "output_type": "stream",
     "text": [
      "error\n"
     ]
    },
    {
     "name": "stderr",
     "output_type": "stream",
     "text": [
      "\r",
      " 15%|████████████▎                                                                    | 33/218 [00:13<01:16,  2.43it/s]"
     ]
    },
    {
     "name": "stdout",
     "output_type": "stream",
     "text": [
      "error\n"
     ]
    },
    {
     "name": "stderr",
     "output_type": "stream",
     "text": [
      "\r",
      " 16%|████████████▋                                                                    | 34/218 [00:13<01:18,  2.36it/s]"
     ]
    },
    {
     "name": "stdout",
     "output_type": "stream",
     "text": [
      "error\n"
     ]
    },
    {
     "name": "stderr",
     "output_type": "stream",
     "text": [
      "\r",
      " 16%|█████████████                                                                    | 35/218 [00:14<01:24,  2.17it/s]"
     ]
    },
    {
     "name": "stdout",
     "output_type": "stream",
     "text": [
      "error\n"
     ]
    },
    {
     "name": "stderr",
     "output_type": "stream",
     "text": [
      "\r",
      " 17%|█████████████▍                                                                   | 36/218 [00:14<01:15,  2.41it/s]"
     ]
    },
    {
     "name": "stdout",
     "output_type": "stream",
     "text": [
      "error\n"
     ]
    },
    {
     "name": "stderr",
     "output_type": "stream",
     "text": [
      "\r",
      " 17%|█████████████▋                                                                   | 37/218 [00:15<01:14,  2.43it/s]"
     ]
    },
    {
     "name": "stdout",
     "output_type": "stream",
     "text": [
      "error\n"
     ]
    },
    {
     "name": "stderr",
     "output_type": "stream",
     "text": [
      "\r",
      " 17%|██████████████                                                                   | 38/218 [00:15<01:20,  2.25it/s]"
     ]
    },
    {
     "name": "stdout",
     "output_type": "stream",
     "text": [
      "error\n"
     ]
    },
    {
     "name": "stderr",
     "output_type": "stream",
     "text": [
      "\r",
      " 18%|██████████████▍                                                                  | 39/218 [00:16<01:16,  2.35it/s]"
     ]
    },
    {
     "name": "stdout",
     "output_type": "stream",
     "text": [
      "error\n"
     ]
    },
    {
     "name": "stderr",
     "output_type": "stream",
     "text": [
      "\r",
      " 18%|██████████████▊                                                                  | 40/218 [00:16<01:12,  2.46it/s]"
     ]
    },
    {
     "name": "stdout",
     "output_type": "stream",
     "text": [
      "error\n"
     ]
    },
    {
     "name": "stderr",
     "output_type": "stream",
     "text": [
      "\r",
      " 19%|███████████████▏                                                                 | 41/218 [00:16<01:14,  2.37it/s]"
     ]
    },
    {
     "name": "stdout",
     "output_type": "stream",
     "text": [
      "error\n"
     ]
    },
    {
     "name": "stderr",
     "output_type": "stream",
     "text": [
      "\r",
      " 19%|███████████████▌                                                                 | 42/218 [00:17<01:07,  2.62it/s]"
     ]
    },
    {
     "name": "stdout",
     "output_type": "stream",
     "text": [
      "error\n"
     ]
    },
    {
     "name": "stderr",
     "output_type": "stream",
     "text": [
      "\r",
      " 20%|███████████████▉                                                                 | 43/218 [00:17<01:02,  2.81it/s]"
     ]
    },
    {
     "name": "stdout",
     "output_type": "stream",
     "text": [
      "error\n"
     ]
    },
    {
     "name": "stderr",
     "output_type": "stream",
     "text": [
      "\r",
      " 20%|████████████████▎                                                                | 44/218 [00:17<01:01,  2.83it/s]"
     ]
    },
    {
     "name": "stdout",
     "output_type": "stream",
     "text": [
      "error\n"
     ]
    },
    {
     "name": "stderr",
     "output_type": "stream",
     "text": [
      "\r",
      " 21%|████████████████▋                                                                | 45/218 [00:18<00:57,  2.98it/s]"
     ]
    },
    {
     "name": "stdout",
     "output_type": "stream",
     "text": [
      "error\n"
     ]
    },
    {
     "name": "stderr",
     "output_type": "stream",
     "text": [
      "\r",
      " 21%|█████████████████                                                                | 46/218 [00:18<00:55,  3.11it/s]"
     ]
    },
    {
     "name": "stdout",
     "output_type": "stream",
     "text": [
      "error\n"
     ]
    },
    {
     "name": "stderr",
     "output_type": "stream",
     "text": [
      "\r",
      " 22%|█████████████████▍                                                               | 47/218 [00:18<01:03,  2.68it/s]"
     ]
    },
    {
     "name": "stdout",
     "output_type": "stream",
     "text": [
      "error\n"
     ]
    },
    {
     "name": "stderr",
     "output_type": "stream",
     "text": [
      "\r",
      " 22%|█████████████████▊                                                               | 48/218 [00:19<00:59,  2.84it/s]"
     ]
    },
    {
     "name": "stdout",
     "output_type": "stream",
     "text": [
      "error\n"
     ]
    },
    {
     "name": "stderr",
     "output_type": "stream",
     "text": [
      "\r",
      " 22%|██████████████████▏                                                              | 49/218 [00:19<00:57,  2.95it/s]"
     ]
    },
    {
     "name": "stdout",
     "output_type": "stream",
     "text": [
      "error\n"
     ]
    },
    {
     "name": "stderr",
     "output_type": "stream",
     "text": [
      "\r",
      " 23%|██████████████████▌                                                              | 50/218 [00:20<01:09,  2.40it/s]"
     ]
    },
    {
     "name": "stdout",
     "output_type": "stream",
     "text": [
      "error\n"
     ]
    },
    {
     "name": "stderr",
     "output_type": "stream",
     "text": [
      "\r",
      " 23%|██████████████████▉                                                              | 51/218 [00:20<01:06,  2.50it/s]"
     ]
    },
    {
     "name": "stdout",
     "output_type": "stream",
     "text": [
      "error\n"
     ]
    },
    {
     "name": "stderr",
     "output_type": "stream",
     "text": [
      "\r",
      " 24%|███████████████████▎                                                             | 52/218 [00:20<01:04,  2.58it/s]"
     ]
    },
    {
     "name": "stdout",
     "output_type": "stream",
     "text": [
      "error\n"
     ]
    },
    {
     "name": "stderr",
     "output_type": "stream",
     "text": [
      "\r",
      " 24%|███████████████████▋                                                             | 53/218 [00:21<00:59,  2.78it/s]"
     ]
    },
    {
     "name": "stdout",
     "output_type": "stream",
     "text": [
      "error\n"
     ]
    },
    {
     "name": "stderr",
     "output_type": "stream",
     "text": [
      "\r",
      " 25%|████████████████████                                                             | 54/218 [00:21<01:04,  2.52it/s]"
     ]
    },
    {
     "name": "stdout",
     "output_type": "stream",
     "text": [
      "error\n"
     ]
    },
    {
     "name": "stderr",
     "output_type": "stream",
     "text": [
      "\r",
      " 25%|████████████████████▍                                                            | 55/218 [00:21<00:59,  2.73it/s]"
     ]
    },
    {
     "name": "stdout",
     "output_type": "stream",
     "text": [
      "error\n"
     ]
    },
    {
     "name": "stderr",
     "output_type": "stream",
     "text": [
      "\r",
      " 26%|████████████████████▊                                                            | 56/218 [00:22<01:01,  2.65it/s]"
     ]
    },
    {
     "name": "stdout",
     "output_type": "stream",
     "text": [
      "error\n"
     ]
    },
    {
     "name": "stderr",
     "output_type": "stream",
     "text": [
      "\r",
      " 26%|█████████████████████▏                                                           | 57/218 [00:22<01:00,  2.66it/s]"
     ]
    },
    {
     "name": "stdout",
     "output_type": "stream",
     "text": [
      "error\n"
     ]
    },
    {
     "name": "stderr",
     "output_type": "stream",
     "text": [
      "\r",
      " 27%|█████████████████████▌                                                           | 58/218 [00:23<00:57,  2.78it/s]"
     ]
    },
    {
     "name": "stdout",
     "output_type": "stream",
     "text": [
      "error\n"
     ]
    },
    {
     "name": "stderr",
     "output_type": "stream",
     "text": [
      "\r",
      " 27%|█████████████████████▉                                                           | 59/218 [00:23<00:57,  2.77it/s]"
     ]
    },
    {
     "name": "stdout",
     "output_type": "stream",
     "text": [
      "error\n"
     ]
    },
    {
     "name": "stderr",
     "output_type": "stream",
     "text": [
      "\r",
      " 28%|██████████████████████▎                                                          | 60/218 [00:23<00:53,  2.95it/s]"
     ]
    },
    {
     "name": "stdout",
     "output_type": "stream",
     "text": [
      "error\n"
     ]
    },
    {
     "name": "stderr",
     "output_type": "stream",
     "text": [
      "\r",
      " 28%|██████████████████████▋                                                          | 61/218 [00:24<00:54,  2.89it/s]"
     ]
    },
    {
     "name": "stdout",
     "output_type": "stream",
     "text": [
      "error\n"
     ]
    },
    {
     "name": "stderr",
     "output_type": "stream",
     "text": [
      "\r",
      " 28%|███████████████████████                                                          | 62/218 [00:24<01:05,  2.39it/s]"
     ]
    },
    {
     "name": "stdout",
     "output_type": "stream",
     "text": [
      "error\n"
     ]
    },
    {
     "name": "stderr",
     "output_type": "stream",
     "text": [
      "\r",
      " 29%|███████████████████████▍                                                         | 63/218 [00:25<01:09,  2.22it/s]"
     ]
    },
    {
     "name": "stdout",
     "output_type": "stream",
     "text": [
      "error\n"
     ]
    },
    {
     "name": "stderr",
     "output_type": "stream",
     "text": [
      "\r",
      " 29%|███████████████████████▊                                                         | 64/218 [00:25<01:02,  2.47it/s]"
     ]
    },
    {
     "name": "stdout",
     "output_type": "stream",
     "text": [
      "error\n"
     ]
    },
    {
     "name": "stderr",
     "output_type": "stream",
     "text": [
      "\r",
      " 30%|████████████████████████▏                                                        | 65/218 [00:25<01:03,  2.41it/s]"
     ]
    },
    {
     "name": "stdout",
     "output_type": "stream",
     "text": [
      "error\n"
     ]
    },
    {
     "name": "stderr",
     "output_type": "stream",
     "text": [
      "\r",
      " 30%|████████████████████████▌                                                        | 66/218 [00:26<00:59,  2.55it/s]"
     ]
    },
    {
     "name": "stdout",
     "output_type": "stream",
     "text": [
      "error\n"
     ]
    },
    {
     "name": "stderr",
     "output_type": "stream",
     "text": [
      "\r",
      " 31%|████████████████████████▉                                                        | 67/218 [00:26<00:54,  2.75it/s]"
     ]
    },
    {
     "name": "stdout",
     "output_type": "stream",
     "text": [
      "error\n"
     ]
    },
    {
     "name": "stderr",
     "output_type": "stream",
     "text": [
      "\r",
      " 31%|█████████████████████████▎                                                       | 68/218 [00:26<00:57,  2.62it/s]"
     ]
    },
    {
     "name": "stdout",
     "output_type": "stream",
     "text": [
      "error\n"
     ]
    },
    {
     "name": "stderr",
     "output_type": "stream",
     "text": [
      "\r",
      " 32%|█████████████████████████▋                                                       | 69/218 [00:27<00:53,  2.78it/s]"
     ]
    },
    {
     "name": "stdout",
     "output_type": "stream",
     "text": [
      "error\n"
     ]
    },
    {
     "name": "stderr",
     "output_type": "stream",
     "text": [
      "\r",
      " 32%|██████████████████████████                                                       | 70/218 [00:27<00:53,  2.78it/s]"
     ]
    },
    {
     "name": "stdout",
     "output_type": "stream",
     "text": [
      "error\n"
     ]
    },
    {
     "name": "stderr",
     "output_type": "stream",
     "text": [
      "\r",
      " 33%|██████████████████████████▍                                                      | 71/218 [00:27<00:51,  2.85it/s]"
     ]
    },
    {
     "name": "stdout",
     "output_type": "stream",
     "text": [
      "error\n"
     ]
    },
    {
     "name": "stderr",
     "output_type": "stream",
     "text": [
      "\r",
      " 33%|██████████████████████████▊                                                      | 72/218 [00:28<01:01,  2.39it/s]"
     ]
    },
    {
     "name": "stdout",
     "output_type": "stream",
     "text": [
      "error\n"
     ]
    },
    {
     "name": "stderr",
     "output_type": "stream",
     "text": [
      "\r",
      " 33%|███████████████████████████                                                      | 73/218 [00:28<00:58,  2.48it/s]"
     ]
    },
    {
     "name": "stdout",
     "output_type": "stream",
     "text": [
      "error\n"
     ]
    },
    {
     "name": "stderr",
     "output_type": "stream",
     "text": [
      "\r",
      " 34%|███████████████████████████▍                                                     | 74/218 [00:29<00:56,  2.53it/s]"
     ]
    },
    {
     "name": "stdout",
     "output_type": "stream",
     "text": [
      "error\n"
     ]
    },
    {
     "name": "stderr",
     "output_type": "stream",
     "text": [
      "\r",
      " 34%|███████████████████████████▊                                                     | 75/218 [00:29<00:52,  2.75it/s]"
     ]
    },
    {
     "name": "stdout",
     "output_type": "stream",
     "text": [
      "error\n"
     ]
    },
    {
     "name": "stderr",
     "output_type": "stream",
     "text": [
      "\r",
      " 35%|████████████████████████████▏                                                    | 76/218 [00:29<00:49,  2.90it/s]"
     ]
    },
    {
     "name": "stdout",
     "output_type": "stream",
     "text": [
      "error\n"
     ]
    },
    {
     "name": "stderr",
     "output_type": "stream",
     "text": [
      "\r",
      " 35%|████████████████████████████▌                                                    | 77/218 [00:30<00:46,  3.06it/s]"
     ]
    },
    {
     "name": "stdout",
     "output_type": "stream",
     "text": [
      "error\n"
     ]
    },
    {
     "name": "stderr",
     "output_type": "stream",
     "text": [
      "\r",
      " 36%|████████████████████████████▉                                                    | 78/218 [00:30<00:47,  2.94it/s]"
     ]
    },
    {
     "name": "stdout",
     "output_type": "stream",
     "text": [
      "error\n"
     ]
    },
    {
     "name": "stderr",
     "output_type": "stream",
     "text": [
      "\r",
      " 36%|█████████████████████████████▎                                                   | 79/218 [00:30<00:45,  3.07it/s]"
     ]
    },
    {
     "name": "stdout",
     "output_type": "stream",
     "text": [
      "error\n"
     ]
    },
    {
     "name": "stderr",
     "output_type": "stream",
     "text": [
      "\r",
      " 37%|█████████████████████████████▋                                                   | 80/218 [00:31<00:44,  3.08it/s]"
     ]
    },
    {
     "name": "stdout",
     "output_type": "stream",
     "text": [
      "error\n"
     ]
    },
    {
     "name": "stderr",
     "output_type": "stream",
     "text": [
      "\r",
      " 37%|██████████████████████████████                                                   | 81/218 [00:31<00:45,  3.02it/s]"
     ]
    },
    {
     "name": "stdout",
     "output_type": "stream",
     "text": [
      "error\n"
     ]
    },
    {
     "name": "stderr",
     "output_type": "stream",
     "text": [
      "\r",
      " 38%|██████████████████████████████▍                                                  | 82/218 [00:31<00:44,  3.07it/s]"
     ]
    },
    {
     "name": "stdout",
     "output_type": "stream",
     "text": [
      "error\n"
     ]
    },
    {
     "name": "stderr",
     "output_type": "stream",
     "text": [
      "\r",
      " 38%|██████████████████████████████▊                                                  | 83/218 [00:32<00:48,  2.81it/s]"
     ]
    },
    {
     "name": "stdout",
     "output_type": "stream",
     "text": [
      "error\n"
     ]
    },
    {
     "name": "stderr",
     "output_type": "stream",
     "text": [
      "\r",
      " 39%|███████████████████████████████▏                                                 | 84/218 [00:32<00:56,  2.37it/s]"
     ]
    },
    {
     "name": "stdout",
     "output_type": "stream",
     "text": [
      "error\n"
     ]
    },
    {
     "name": "stderr",
     "output_type": "stream",
     "text": [
      "\r",
      " 39%|███████████████████████████████▌                                                 | 85/218 [00:33<00:53,  2.47it/s]"
     ]
    },
    {
     "name": "stdout",
     "output_type": "stream",
     "text": [
      "error\n"
     ]
    },
    {
     "name": "stderr",
     "output_type": "stream",
     "text": [
      "\r",
      " 39%|███████████████████████████████▉                                                 | 86/218 [00:33<00:49,  2.67it/s]"
     ]
    },
    {
     "name": "stdout",
     "output_type": "stream",
     "text": [
      "error\n"
     ]
    },
    {
     "name": "stderr",
     "output_type": "stream",
     "text": [
      "\r",
      " 40%|████████████████████████████████▎                                                | 87/218 [00:33<00:46,  2.80it/s]"
     ]
    },
    {
     "name": "stdout",
     "output_type": "stream",
     "text": [
      "error\n"
     ]
    },
    {
     "name": "stderr",
     "output_type": "stream",
     "text": [
      "\r",
      " 40%|████████████████████████████████▋                                                | 88/218 [00:34<00:43,  2.99it/s]"
     ]
    },
    {
     "name": "stdout",
     "output_type": "stream",
     "text": [
      "error\n"
     ]
    },
    {
     "name": "stderr",
     "output_type": "stream",
     "text": [
      "\r",
      " 41%|█████████████████████████████████                                                | 89/218 [00:34<00:41,  3.10it/s]"
     ]
    },
    {
     "name": "stdout",
     "output_type": "stream",
     "text": [
      "error\n"
     ]
    },
    {
     "name": "stderr",
     "output_type": "stream",
     "text": [
      "\r",
      " 41%|█████████████████████████████████▍                                               | 90/218 [00:34<00:39,  3.21it/s]"
     ]
    },
    {
     "name": "stdout",
     "output_type": "stream",
     "text": [
      "error\n"
     ]
    },
    {
     "name": "stderr",
     "output_type": "stream",
     "text": [
      "\r",
      " 42%|█████████████████████████████████▊                                               | 91/218 [00:35<00:40,  3.14it/s]"
     ]
    },
    {
     "name": "stdout",
     "output_type": "stream",
     "text": [
      "error\n"
     ]
    },
    {
     "name": "stderr",
     "output_type": "stream",
     "text": [
      "\r",
      " 42%|██████████████████████████████████▏                                              | 92/218 [00:35<00:43,  2.88it/s]"
     ]
    },
    {
     "name": "stdout",
     "output_type": "stream",
     "text": [
      "error\n"
     ]
    },
    {
     "name": "stderr",
     "output_type": "stream",
     "text": [
      "\r",
      " 43%|██████████████████████████████████▌                                              | 93/218 [00:35<00:49,  2.52it/s]"
     ]
    },
    {
     "name": "stdout",
     "output_type": "stream",
     "text": [
      "error\n"
     ]
    },
    {
     "name": "stderr",
     "output_type": "stream",
     "text": [
      "\r",
      " 43%|██████████████████████████████████▉                                              | 94/218 [00:36<00:48,  2.56it/s]"
     ]
    },
    {
     "name": "stdout",
     "output_type": "stream",
     "text": [
      "error\n"
     ]
    },
    {
     "name": "stderr",
     "output_type": "stream",
     "text": [
      "\r",
      " 44%|███████████████████████████████████▎                                             | 95/218 [00:36<00:45,  2.70it/s]"
     ]
    },
    {
     "name": "stdout",
     "output_type": "stream",
     "text": [
      "error\n"
     ]
    },
    {
     "name": "stderr",
     "output_type": "stream",
     "text": [
      "\r",
      " 44%|███████████████████████████████████▋                                             | 96/218 [00:36<00:42,  2.90it/s]"
     ]
    },
    {
     "name": "stdout",
     "output_type": "stream",
     "text": [
      "error\n"
     ]
    },
    {
     "name": "stderr",
     "output_type": "stream",
     "text": [
      "\r",
      " 44%|████████████████████████████████████                                             | 97/218 [00:37<00:40,  3.02it/s]"
     ]
    },
    {
     "name": "stdout",
     "output_type": "stream",
     "text": [
      "error\n"
     ]
    },
    {
     "name": "stderr",
     "output_type": "stream",
     "text": [
      "\r",
      " 45%|████████████████████████████████████▍                                            | 98/218 [00:37<00:45,  2.61it/s]"
     ]
    },
    {
     "name": "stdout",
     "output_type": "stream",
     "text": [
      "error\n"
     ]
    },
    {
     "name": "stderr",
     "output_type": "stream",
     "text": [
      " 45%|████████████████████████████████████▊                                            | 99/218 [00:38<00:45,  2.61it/s]Request returns 429 error!\n",
      "That means 'too many requests'. I'll go to sleep for 5 minutes.\n"
     ]
    }
   ],
   "source": [
    "error_list = []\n",
    "user_following_count = []\n",
    "for user_id in tqdm(followers):\n",
    "    user_info = bot.get_user_info(user_id)\n",
    "    if not user_info:\n",
    "        following_count = user_info['following_count']\n",
    "        username= user_info['username']\n",
    "        user_following_count.append((username, following_count))\n",
    "    else:\n",
    "        error_list.append(user_id)\n",
    "        print('error')"
   ]
  },
  {
   "cell_type": "code",
   "execution_count": 13,
   "metadata": {},
   "outputs": [
    {
     "data": {
      "text/plain": [
       "False"
      ]
     },
     "execution_count": 13,
     "metadata": {},
     "output_type": "execute_result"
    }
   ],
   "source": [
    "user_info"
   ]
  },
  {
   "cell_type": "code",
   "execution_count": 12,
   "metadata": {},
   "outputs": [
    {
     "data": {
      "text/plain": [
       "[('pakhomovatatiana', 204),\n",
       " ('olgaboyarskaya', 282),\n",
       " ('olgaaleshina1983', 216),\n",
       " ('janna_kislaya', 441),\n",
       " ('wild_crazy_happy', 228),\n",
       " ('vasyatka001_', 222),\n",
       " ('ro_guber', 244),\n",
       " ('mary_mary_ko', 481),\n",
       " ('druzhinina_e', 582),\n",
       " ('by_innkin', 445),\n",
       " ('francogolic', 701),\n",
       " ('frostyfrost262', 185),\n",
       " ('nastyaplease', 508),\n",
       " ('sullenshark', 156),\n",
       " ('artem.pakhomov', 106),\n",
       " ('ghaly1985', 616),\n",
       " ('lepekhas', 1656),\n",
       " ('shchelkunoff', 1071),\n",
       " ('dr.dm', 137),\n",
       " ('lidik_bessty', 1161),\n",
       " ('s1im51', 617),\n",
       " ('natashazhalnina', 403),\n",
       " ('patentilla', 1041),\n",
       " ('sirin.kate', 330),\n",
       " ('lintvarev_ea', 90),\n",
       " ('alinpmalysheva', 554),\n",
       " ('lashes_lid', 348),\n",
       " ('anasstya1', 563),\n",
       " ('igor__aleshin', 6755),\n",
       " ('sanovna.mari', 505),\n",
       " ('bengal_cat_malta', 168),\n",
       " ('sinichkina_v', 99),\n",
       " ('nobeershe', 230),\n",
       " ('krevetych', 67),\n",
       " ('martinmika1988', 226),\n",
       " ('bespalov_a_v', 137),\n",
       " ('slava_lomonosova', 1234),\n",
       " ('svetlana_zelenoglazzka', 147),\n",
       " ('_yaroslava_lo', 434),\n",
       " ('yet_another_traveller', 7004),\n",
       " ('irin_arkadevna', 338),\n",
       " ('stewadress', 515),\n",
       " ('a_v_bugaev', 6497),\n",
       " ('zhanna_risuet', 60),\n",
       " ('moskyu', 292),\n",
       " ('to_bank_on_something', 101),\n",
       " ('msstepashkina', 267),\n",
       " ('vadim._.ushakov', 19),\n",
       " ('laskomikhail', 336),\n",
       " ('yaroslavna.shergova', 417),\n",
       " ('danieldoshe', 265),\n",
       " ('i_never_be_alone_', 411),\n",
       " ('kluevert', 25),\n",
       " ('larybora', 8),\n",
       " ('pirozhkova_m', 355),\n",
       " ('ja08sm', 179),\n",
       " ('kosha9111', 339),\n",
       " ('boredtapka', 247),\n",
       " ('avlae', 214),\n",
       " ('alena.ter', 1840),\n",
       " ('madama_tomata', 180),\n",
       " ('charlyenergyss', 186),\n",
       " ('antonletniy', 223),\n",
       " ('cheremisinovanatalya', 203),\n",
       " ('olga090976', 363),\n",
       " ('_mironova_olyaa', 1498),\n",
       " ('digma_35', 76),\n",
       " ('irina77777', 199),\n",
       " ('andreitalanko', 81),\n",
       " ('grachenkova', 2113),\n",
       " ('agarko', 1115),\n",
       " ('anasta_lo', 318),\n",
       " ('project_itvori', 870),\n",
       " ('imalinka_', 229),\n",
       " ('fastenko.i', 117),\n",
       " ('galyaovchinnikova', 3582),\n",
       " ('_zaika', 219),\n",
       " ('capitan_kakao_', 523),\n",
       " ('ekaterina_kovalskikh', 1873),\n",
       " ('golovinatana', 544),\n",
       " ('slepneva_coach', 385),\n",
       " ('nv_k57', 124),\n",
       " ('kyliekylie88__', 835),\n",
       " ('makinka0606', 546),\n",
       " ('lazarev_saycheese', 303),\n",
       " ('nikitaandreev89', 86),\n",
       " ('_djongiu', 375),\n",
       " ('sha_tosha', 374),\n",
       " ('kulikovamariya1280', 15),\n",
       " ('_fugitive4life_', 85),\n",
       " ('_bellissimo_555', 161),\n",
       " ('anna_961_k', 6265),\n",
       " ('vladislava_mom', 358),\n",
       " ('mansurov_dmitriy_rodniki', 130),\n",
       " ('mele.jazz.duet', 364),\n",
       " ('daria_zyuneva', 390),\n",
       " ('bzik_ula', 1458),\n",
       " ('tolikkk_kob', 96)]"
      ]
     },
     "execution_count": 12,
     "metadata": {},
     "output_type": "execute_result"
    }
   ],
   "source": [
    "user_following_count"
   ]
  },
  {
   "cell_type": "code",
   "execution_count": null,
   "metadata": {},
   "outputs": [],
   "source": []
  }
 ],
 "metadata": {
  "kernelspec": {
   "display_name": "Python [conda env:insta]",
   "language": "python",
   "name": "conda-env-insta-py"
  },
  "language_info": {
   "codemirror_mode": {
    "name": "ipython",
    "version": 3
   },
   "file_extension": ".py",
   "mimetype": "text/x-python",
   "name": "python",
   "nbconvert_exporter": "python",
   "pygments_lexer": "ipython3",
   "version": "3.7.4"
  }
 },
 "nbformat": 4,
 "nbformat_minor": 2
}
